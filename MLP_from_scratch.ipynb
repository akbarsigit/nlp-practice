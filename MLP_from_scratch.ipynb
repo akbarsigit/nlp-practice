{
  "nbformat": 4,
  "nbformat_minor": 0,
  "metadata": {
    "colab": {
      "provenance": [],
      "authorship_tag": "ABX9TyMdVnkxbodht0ucf8I3eJjL"
    },
    "kernelspec": {
      "name": "python3",
      "display_name": "Python 3"
    },
    "language_info": {
      "name": "python"
    }
  },
  "cells": [
    {
      "cell_type": "code",
      "execution_count": null,
      "metadata": {
        "id": "KQ6yS5qJwyK9"
      },
      "outputs": [],
      "source": [
        "import torch\n",
        "import torch.nn.functional as F\n",
        "import matplotlib.pyplot as plt # for making figures\n",
        "%matplotlib inline"
      ]
    },
    {
      "cell_type": "code",
      "source": [
        "# read in all the words\n",
        "words = open('/content/sample_data/names.txt', 'r').read().splitlines()\n",
        "words[:8]"
      ],
      "metadata": {
        "colab": {
          "base_uri": "https://localhost:8080/"
        },
        "id": "rprr_QcXz0PZ",
        "outputId": "41157af9-400a-4854-a4c1-bf5fc97a6416"
      },
      "execution_count": null,
      "outputs": [
        {
          "output_type": "execute_result",
          "data": {
            "text/plain": [
              "['emma', 'olivia', 'ava', 'isabella', 'sophia', 'charlotte', 'mia', 'amelia']"
            ]
          },
          "metadata": {},
          "execution_count": 5
        }
      ]
    },
    {
      "cell_type": "code",
      "source": [
        "len(words)"
      ],
      "metadata": {
        "colab": {
          "base_uri": "https://localhost:8080/"
        },
        "id": "lUNcKRdSz3bt",
        "outputId": "cb842078-41b4-416c-d8bd-b5ce22d8348d"
      },
      "execution_count": null,
      "outputs": [
        {
          "output_type": "execute_result",
          "data": {
            "text/plain": [
              "32033"
            ]
          },
          "metadata": {},
          "execution_count": 6
        }
      ]
    },
    {
      "cell_type": "code",
      "source": [
        "# build the vocabulary of characters and mappings to/from integers\n",
        "chars = sorted(list(set(''.join(words))))\n",
        "stoi = {s:i+1 for i,s in enumerate(chars)}\n",
        "stoi['.'] = 0\n",
        "itos = {i:s for s,i in stoi.items()}\n",
        "print(itos)"
      ],
      "metadata": {
        "colab": {
          "base_uri": "https://localhost:8080/"
        },
        "id": "4DP-D5aJz_e0",
        "outputId": "75783ee4-a354-4581-ca4e-4041009cf065"
      },
      "execution_count": null,
      "outputs": [
        {
          "output_type": "stream",
          "name": "stdout",
          "text": [
            "{1: 'a', 2: 'b', 3: 'c', 4: 'd', 5: 'e', 6: 'f', 7: 'g', 8: 'h', 9: 'i', 10: 'j', 11: 'k', 12: 'l', 13: 'm', 14: 'n', 15: 'o', 16: 'p', 17: 'q', 18: 'r', 19: 's', 20: 't', 21: 'u', 22: 'v', 23: 'w', 24: 'x', 25: 'y', 26: 'z', 0: '.'}\n"
          ]
        }
      ]
    },
    {
      "cell_type": "code",
      "source": [
        "# build the dataset\n",
        "\n",
        "block_size = 3 # context length: how many characters do we take to predict the next one?\n",
        "X, Y = [], []\n",
        "for w in words:\n",
        "\n",
        "  # print(w)\n",
        "  context = [0] * block_size\n",
        "  for ch in w + '.':\n",
        "    ix = stoi[ch]\n",
        "    X.append(context)\n",
        "    Y.append(ix)\n",
        "    # print(''.join(itos[i] for i in context), '--->', itos[ix])\n",
        "    context = context[1:] + [ix] # crop and append\n",
        "\n",
        "X = torch.tensor(X)\n",
        "Y = torch.tensor(Y)"
      ],
      "metadata": {
        "collapsed": true,
        "id": "5_XByUPd0B1j"
      },
      "execution_count": null,
      "outputs": []
    },
    {
      "cell_type": "code",
      "source": [
        "X.shape, X.dtype, Y.shape, Y.dtype"
      ],
      "metadata": {
        "colab": {
          "base_uri": "https://localhost:8080/"
        },
        "id": "7fK7k81a0HuG",
        "outputId": "24e6ce15-ab6c-48ea-a472-301fdcca82b5"
      },
      "execution_count": null,
      "outputs": [
        {
          "output_type": "execute_result",
          "data": {
            "text/plain": [
              "(torch.Size([228146, 3]), torch.int64, torch.Size([228146]), torch.int64)"
            ]
          },
          "metadata": {},
          "execution_count": 9
        }
      ]
    },
    {
      "cell_type": "code",
      "source": [
        "# create embedding matrix to represent the 27 char to 2 dimensional only\n",
        "C = torch.randn((27, 2))\n",
        "C"
      ],
      "metadata": {
        "colab": {
          "base_uri": "https://localhost:8080/"
        },
        "id": "zLkoHw-g0J_Q",
        "outputId": "1614b524-4f57-42af-ca1e-6c1a66a78909"
      },
      "execution_count": null,
      "outputs": [
        {
          "output_type": "execute_result",
          "data": {
            "text/plain": [
              "tensor([[ 2.3712, -0.0491],\n",
              "        [ 0.1340,  1.0703],\n",
              "        [-0.4043, -0.5734],\n",
              "        [-0.8195, -0.6560],\n",
              "        [ 2.3479,  2.8454],\n",
              "        [-0.4569, -1.5401],\n",
              "        [-0.7480, -0.6382],\n",
              "        [ 0.3405, -0.2371],\n",
              "        [-0.8738,  0.0493],\n",
              "        [ 0.9964,  0.2031],\n",
              "        [-0.9057, -0.9593],\n",
              "        [ 0.1187, -1.3600],\n",
              "        [-0.0612, -0.4605],\n",
              "        [-0.7176,  0.6154],\n",
              "        [ 0.2024, -0.3024],\n",
              "        [-0.9413, -1.2887],\n",
              "        [-0.3117, -0.1852],\n",
              "        [-1.0062,  0.0728],\n",
              "        [-0.1232, -1.8310],\n",
              "        [ 1.7396, -0.6001],\n",
              "        [-1.5120, -0.4626],\n",
              "        [-0.1749, -0.2309],\n",
              "        [ 0.7361, -0.4735],\n",
              "        [-1.0235, -1.1217],\n",
              "        [-0.2125, -0.5951],\n",
              "        [-0.0673, -0.5226],\n",
              "        [ 2.0622,  0.1354]])"
            ]
          },
          "metadata": {},
          "execution_count": 14
        }
      ]
    },
    {
      "cell_type": "code",
      "source": [
        "X"
      ],
      "metadata": {
        "colab": {
          "base_uri": "https://localhost:8080/"
        },
        "id": "JitqvGkn22h_",
        "outputId": "452bde44-3672-4e02-d991-4f4d65f9c95d"
      },
      "execution_count": null,
      "outputs": [
        {
          "output_type": "execute_result",
          "data": {
            "text/plain": [
              "tensor([[ 0,  0,  0],\n",
              "        [ 0,  0,  5],\n",
              "        [ 0,  5, 13],\n",
              "        ...,\n",
              "        [26, 26, 25],\n",
              "        [26, 25, 26],\n",
              "        [25, 26, 24]])"
            ]
          },
          "metadata": {},
          "execution_count": 21
        }
      ]
    },
    {
      "cell_type": "code",
      "source": [
        "# mapping the X (input) to the embedding\n",
        "emb = C[X]\n",
        "emb"
      ],
      "metadata": {
        "colab": {
          "base_uri": "https://localhost:8080/"
        },
        "id": "3-ameOsE4W_g",
        "outputId": "e2820f37-e71d-4e13-c1ab-40083ae03669"
      },
      "execution_count": null,
      "outputs": [
        {
          "output_type": "execute_result",
          "data": {
            "text/plain": [
              "tensor([[[ 2.3712, -0.0491],\n",
              "         [ 2.3712, -0.0491],\n",
              "         [ 2.3712, -0.0491]],\n",
              "\n",
              "        [[ 2.3712, -0.0491],\n",
              "         [ 2.3712, -0.0491],\n",
              "         [-0.4569, -1.5401]],\n",
              "\n",
              "        [[ 2.3712, -0.0491],\n",
              "         [-0.4569, -1.5401],\n",
              "         [-0.7176,  0.6154]],\n",
              "\n",
              "        ...,\n",
              "\n",
              "        [[ 2.0622,  0.1354],\n",
              "         [ 2.0622,  0.1354],\n",
              "         [-0.0673, -0.5226]],\n",
              "\n",
              "        [[ 2.0622,  0.1354],\n",
              "         [-0.0673, -0.5226],\n",
              "         [ 2.0622,  0.1354]],\n",
              "\n",
              "        [[-0.0673, -0.5226],\n",
              "         [ 2.0622,  0.1354],\n",
              "         [-0.2125, -0.5951]]])"
            ]
          },
          "metadata": {},
          "execution_count": 23
        }
      ]
    },
    {
      "cell_type": "code",
      "source": [
        "emb.shape"
      ],
      "metadata": {
        "id": "-LDz3WM3_kkq",
        "outputId": "5556e4a9-9472-4bf4-8146-387cca601060",
        "colab": {
          "base_uri": "https://localhost:8080/"
        }
      },
      "execution_count": null,
      "outputs": [
        {
          "output_type": "execute_result",
          "data": {
            "text/plain": [
              "torch.Size([228146, 3, 2])"
            ]
          },
          "metadata": {},
          "execution_count": 37
        }
      ]
    },
    {
      "cell_type": "code",
      "source": [
        "W1 = torch.randn((6, 100))\n",
        "b1 = torch.randn(100)"
      ],
      "metadata": {
        "id": "6e7Hq2Qr4a3O"
      },
      "execution_count": null,
      "outputs": []
    },
    {
      "cell_type": "code",
      "source": [
        "len(torch.unbind(emb, 1))"
      ],
      "metadata": {
        "colab": {
          "base_uri": "https://localhost:8080/"
        },
        "id": "a8lpVtoE-T8v",
        "outputId": "74a255de-8563-4a8b-91ca-da9f29da2a21"
      },
      "execution_count": null,
      "outputs": [
        {
          "output_type": "execute_result",
          "data": {
            "text/plain": [
              "3"
            ]
          },
          "metadata": {},
          "execution_count": 30
        }
      ]
    },
    {
      "cell_type": "code",
      "source": [
        "torch.unbind(emb, 1)[0]"
      ],
      "metadata": {
        "colab": {
          "base_uri": "https://localhost:8080/"
        },
        "id": "q6iDLpvB-eOK",
        "outputId": "2a8d737b-c7b3-4b1f-a796-341ebf62c967"
      },
      "execution_count": null,
      "outputs": [
        {
          "output_type": "execute_result",
          "data": {
            "text/plain": [
              "tensor([[ 2.3712, -0.0491],\n",
              "        [ 2.3712, -0.0491],\n",
              "        [ 2.3712, -0.0491],\n",
              "        ...,\n",
              "        [ 2.0622,  0.1354],\n",
              "        [ 2.0622,  0.1354],\n",
              "        [-0.0673, -0.5226]])"
            ]
          },
          "metadata": {},
          "execution_count": 31
        }
      ]
    },
    {
      "cell_type": "code",
      "source": [
        "torch.unbind(emb, 1)[0].shape"
      ],
      "metadata": {
        "colab": {
          "base_uri": "https://localhost:8080/"
        },
        "id": "dNuLCVLa-uqJ",
        "outputId": "a7f93662-bd02-46fa-a3a1-66ae2e313e02"
      },
      "execution_count": null,
      "outputs": [
        {
          "output_type": "execute_result",
          "data": {
            "text/plain": [
              "torch.Size([228146, 2])"
            ]
          },
          "metadata": {},
          "execution_count": 32
        }
      ]
    },
    {
      "cell_type": "code",
      "source": [
        "# so I have 3 of the (228146, 2), and I want to make it (228146, 6)\n",
        "torch.cat(torch.unbind(emb, 1),1)"
      ],
      "metadata": {
        "colab": {
          "base_uri": "https://localhost:8080/"
        },
        "id": "HUCk8Rij-v2N",
        "outputId": "788e57f4-fd79-43c7-db7b-b7d40d4ebc0f"
      },
      "execution_count": null,
      "outputs": [
        {
          "output_type": "execute_result",
          "data": {
            "text/plain": [
              "tensor([[ 2.3712, -0.0491,  2.3712, -0.0491,  2.3712, -0.0491],\n",
              "        [ 2.3712, -0.0491,  2.3712, -0.0491, -0.4569, -1.5401],\n",
              "        [ 2.3712, -0.0491, -0.4569, -1.5401, -0.7176,  0.6154],\n",
              "        ...,\n",
              "        [ 2.0622,  0.1354,  2.0622,  0.1354, -0.0673, -0.5226],\n",
              "        [ 2.0622,  0.1354, -0.0673, -0.5226,  2.0622,  0.1354],\n",
              "        [-0.0673, -0.5226,  2.0622,  0.1354, -0.2125, -0.5951]])"
            ]
          },
          "metadata": {},
          "execution_count": 35
        }
      ]
    },
    {
      "cell_type": "code",
      "source": [
        "torch.cat(torch.unbind(emb, 1),1).shape"
      ],
      "metadata": {
        "colab": {
          "base_uri": "https://localhost:8080/"
        },
        "id": "CUTESzPU_APq",
        "outputId": "32eea322-08a4-482c-c0b9-2c417e03d865"
      },
      "execution_count": null,
      "outputs": [
        {
          "output_type": "execute_result",
          "data": {
            "text/plain": [
              "torch.Size([228146, 6])"
            ]
          },
          "metadata": {},
          "execution_count": 36
        }
      ]
    },
    {
      "cell_type": "code",
      "source": [
        "# we can do it with view, which gives the exact same result, but more efficient under the hood\n",
        "emb.view(228146, 6)"
      ],
      "metadata": {
        "id": "-tXgojuj_Vh5",
        "colab": {
          "base_uri": "https://localhost:8080/"
        },
        "outputId": "a6ccf2c5-222e-4179-e9a3-e17ff1c86322"
      },
      "execution_count": 40,
      "outputs": [
        {
          "output_type": "execute_result",
          "data": {
            "text/plain": [
              "tensor([[ 2.3712, -0.0491,  2.3712, -0.0491,  2.3712, -0.0491],\n",
              "        [ 2.3712, -0.0491,  2.3712, -0.0491, -0.4569, -1.5401],\n",
              "        [ 2.3712, -0.0491, -0.4569, -1.5401, -0.7176,  0.6154],\n",
              "        ...,\n",
              "        [ 2.0622,  0.1354,  2.0622,  0.1354, -0.0673, -0.5226],\n",
              "        [ 2.0622,  0.1354, -0.0673, -0.5226,  2.0622,  0.1354],\n",
              "        [-0.0673, -0.5226,  2.0622,  0.1354, -0.2125, -0.5951]])"
            ]
          },
          "metadata": {},
          "execution_count": 40
        }
      ]
    },
    {
      "cell_type": "code",
      "source": [
        "# so finally we can do dot product of the weight and inputs:\n",
        "# note: -1 will automatically do emb.shape[0]\n",
        "emb.view(-1, 6) @ W1 + b1"
      ],
      "metadata": {
        "colab": {
          "base_uri": "https://localhost:8080/"
        },
        "id": "YW_gdjegmoMS",
        "outputId": "af54a417-d590-4c77-deb8-f78d5c011abd"
      },
      "execution_count": 43,
      "outputs": [
        {
          "output_type": "execute_result",
          "data": {
            "text/plain": [
              "tensor([[ -3.5315,   6.4929,   4.3976,  ...,  -2.7966,  -2.2413,  -0.6848],\n",
              "        [-10.6152,   3.7463,  -0.1935,  ...,  -2.0375,   0.2731,   1.5617],\n",
              "        [ -2.2791,   0.8871,   0.4137,  ...,   0.7567,  -3.1662,   3.5476],\n",
              "        ...,\n",
              "        [ -6.4230,   4.5809,   0.2495,  ...,  -1.0632,  -0.7823,   0.9898],\n",
              "        [ -0.2600,   4.5404,   3.5010,  ...,  -2.6450,  -1.3485,   1.0368],\n",
              "        [ -5.5992,   1.7473,   1.2197,  ...,   0.2007,  -0.9737,  -1.2299]])"
            ]
          },
          "metadata": {},
          "execution_count": 43
        }
      ]
    },
    {
      "cell_type": "code",
      "source": [
        "# do tanh for non linearity\n",
        "h = torch.tanh(emb.view(-1, 6) @ W1 + b1)\n",
        "# note: this W1 + b1 will do broadcasting as follows:\n",
        "# W1 (228146, 100)\n",
        "# b1 (100)\n",
        "# =>\n",
        "# W1 (228146, 100)\n",
        "# b1 (     1, 100) => so this is correct, because we wanna do row wise sum!\n",
        "h"
      ],
      "metadata": {
        "colab": {
          "base_uri": "https://localhost:8080/"
        },
        "id": "ksgbAoaSoA0a",
        "outputId": "28d614e2-84f8-458d-bccd-556838e227c9"
      },
      "execution_count": 46,
      "outputs": [
        {
          "output_type": "execute_result",
          "data": {
            "text/plain": [
              "tensor([[-0.9983,  1.0000,  0.9997,  ..., -0.9926, -0.9776, -0.5946],\n",
              "        [-1.0000,  0.9989, -0.1911,  ..., -0.9666,  0.2665,  0.9157],\n",
              "        [-0.9793,  0.7100,  0.3916,  ...,  0.6391, -0.9965,  0.9983],\n",
              "        ...,\n",
              "        [-1.0000,  0.9998,  0.2444,  ..., -0.7869, -0.6540,  0.7573],\n",
              "        [-0.2543,  0.9998,  0.9982,  ..., -0.9900, -0.8737,  0.7766],\n",
              "        [-1.0000,  0.9411,  0.8396,  ...,  0.1980, -0.7503, -0.8425]])"
            ]
          },
          "metadata": {},
          "execution_count": 46
        }
      ]
    },
    {
      "cell_type": "code",
      "source": [
        "h.shape"
      ],
      "metadata": {
        "colab": {
          "base_uri": "https://localhost:8080/"
        },
        "id": "wJBPz2EpryFJ",
        "outputId": "18c77712-6b07-4109-ff4c-6f7c222604ec"
      },
      "execution_count": 48,
      "outputs": [
        {
          "output_type": "execute_result",
          "data": {
            "text/plain": [
              "torch.Size([228146, 100])"
            ]
          },
          "metadata": {},
          "execution_count": 48
        }
      ]
    },
    {
      "cell_type": "code",
      "source": [
        "W2 = torch.randn((100, 27))\n",
        "b2 = torch.randn(27)"
      ],
      "metadata": {
        "id": "N2bhPlZsqM15"
      },
      "execution_count": 47,
      "outputs": []
    },
    {
      "cell_type": "code",
      "source": [
        "logits = h @ W2 + b2"
      ],
      "metadata": {
        "id": "YEMxYofZrugV"
      },
      "execution_count": 49,
      "outputs": []
    },
    {
      "cell_type": "code",
      "source": [
        "logits.shape"
      ],
      "metadata": {
        "colab": {
          "base_uri": "https://localhost:8080/"
        },
        "id": "pqnaP6zCr1z1",
        "outputId": "b0036f6a-a444-4dd1-87d6-691065638b9d"
      },
      "execution_count": 50,
      "outputs": [
        {
          "output_type": "execute_result",
          "data": {
            "text/plain": [
              "torch.Size([228146, 27])"
            ]
          },
          "metadata": {},
          "execution_count": 50
        }
      ]
    },
    {
      "cell_type": "code",
      "source": [
        "counts = logits.exp()"
      ],
      "metadata": {
        "id": "JpxnGqujr3Tf"
      },
      "execution_count": 51,
      "outputs": []
    },
    {
      "cell_type": "code",
      "source": [
        "# so softmax activation function\n",
        "prob = counts / counts.sum(1, keepdims=True)"
      ],
      "metadata": {
        "id": "ty0y4jFXsFGA"
      },
      "execution_count": 52,
      "outputs": []
    },
    {
      "cell_type": "code",
      "source": [
        "prob.shape"
      ],
      "metadata": {
        "colab": {
          "base_uri": "https://localhost:8080/"
        },
        "id": "hdZE8d2msG6y",
        "outputId": "c9cf91a2-2b0c-40e7-fce5-7a5483a51c1b"
      },
      "execution_count": 53,
      "outputs": [
        {
          "output_type": "execute_result",
          "data": {
            "text/plain": [
              "torch.Size([228146, 27])"
            ]
          },
          "metadata": {},
          "execution_count": 53
        }
      ]
    },
    {
      "cell_type": "code",
      "source": [],
      "metadata": {
        "id": "uYkxBra3selb"
      },
      "execution_count": null,
      "outputs": []
    }
  ]
}