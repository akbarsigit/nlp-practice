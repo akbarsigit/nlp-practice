{
  "nbformat": 4,
  "nbformat_minor": 0,
  "metadata": {
    "colab": {
      "provenance": [],
      "authorship_tag": "ABX9TyNK22P1IdhW3oalppPYlax1"
    },
    "kernelspec": {
      "name": "python3",
      "display_name": "Python 3"
    },
    "language_info": {
      "name": "python"
    }
  },
  "cells": [
    {
      "cell_type": "code",
      "execution_count": 4,
      "metadata": {
        "id": "KQ6yS5qJwyK9"
      },
      "outputs": [],
      "source": [
        "import torch\n",
        "import torch.nn.functional as F\n",
        "import matplotlib.pyplot as plt # for making figures\n",
        "%matplotlib inline"
      ]
    },
    {
      "cell_type": "code",
      "source": [
        "# read in all the words\n",
        "words = open('/content/sample_data/names.txt', 'r').read().splitlines()\n",
        "words[:8]"
      ],
      "metadata": {
        "colab": {
          "base_uri": "https://localhost:8080/"
        },
        "id": "rprr_QcXz0PZ",
        "outputId": "9b19b77c-0470-4efe-d67f-323d1517978d"
      },
      "execution_count": 5,
      "outputs": [
        {
          "output_type": "execute_result",
          "data": {
            "text/plain": [
              "['emma', 'olivia', 'ava', 'isabella', 'sophia', 'charlotte', 'mia', 'amelia']"
            ]
          },
          "metadata": {},
          "execution_count": 5
        }
      ]
    },
    {
      "cell_type": "code",
      "source": [
        "len(words)"
      ],
      "metadata": {
        "colab": {
          "base_uri": "https://localhost:8080/"
        },
        "id": "lUNcKRdSz3bt",
        "outputId": "a92648c2-6baa-427c-9357-21071df714a9"
      },
      "execution_count": 6,
      "outputs": [
        {
          "output_type": "execute_result",
          "data": {
            "text/plain": [
              "32033"
            ]
          },
          "metadata": {},
          "execution_count": 6
        }
      ]
    },
    {
      "cell_type": "code",
      "source": [
        "# build the vocabulary of characters and mappings to/from integers\n",
        "chars = sorted(list(set(''.join(words))))\n",
        "stoi = {s:i+1 for i,s in enumerate(chars)}\n",
        "stoi['.'] = 0\n",
        "itos = {i:s for s,i in stoi.items()}\n",
        "print(itos)"
      ],
      "metadata": {
        "colab": {
          "base_uri": "https://localhost:8080/"
        },
        "id": "4DP-D5aJz_e0",
        "outputId": "4de62aca-c9aa-47c1-913e-fd0ff8f30ca7"
      },
      "execution_count": 7,
      "outputs": [
        {
          "output_type": "stream",
          "name": "stdout",
          "text": [
            "{1: 'a', 2: 'b', 3: 'c', 4: 'd', 5: 'e', 6: 'f', 7: 'g', 8: 'h', 9: 'i', 10: 'j', 11: 'k', 12: 'l', 13: 'm', 14: 'n', 15: 'o', 16: 'p', 17: 'q', 18: 'r', 19: 's', 20: 't', 21: 'u', 22: 'v', 23: 'w', 24: 'x', 25: 'y', 26: 'z', 0: '.'}\n"
          ]
        }
      ]
    },
    {
      "cell_type": "code",
      "source": [
        "# build the dataset\n",
        "block_size = 3 # context length: how many characters do we take to predict the next one?\n",
        "\n",
        "def build_dataset(words):\n",
        "  X, Y = [], []\n",
        "  for w in words:\n",
        "\n",
        "    #print(w)\n",
        "    context = [0] * block_size\n",
        "    for ch in w + '.':\n",
        "      ix = stoi[ch]\n",
        "      X.append(context)\n",
        "      Y.append(ix)\n",
        "      #print(''.join(itos[i] for i in context), '--->', itos[ix])\n",
        "      context = context[1:] + [ix] # crop and append\n",
        "\n",
        "  X = torch.tensor(X)\n",
        "  Y = torch.tensor(Y)\n",
        "  print(X.shape, Y.shape)\n",
        "  return X, Y\n",
        "\n"
      ],
      "metadata": {
        "collapsed": true,
        "id": "5_XByUPd0B1j",
        "colab": {
          "base_uri": "https://localhost:8080/"
        },
        "outputId": "7bcdacfe-c487-49fd-ab6a-b9729ac9156b"
      },
      "execution_count": 35,
      "outputs": [
        {
          "output_type": "stream",
          "name": "stdout",
          "text": [
            "torch.Size([182625, 3]) torch.Size([182625])\n",
            "torch.Size([22655, 3]) torch.Size([22655])\n",
            "torch.Size([22866, 3]) torch.Size([22866])\n"
          ]
        }
      ]
    },
    {
      "cell_type": "code",
      "source": [
        "import random\n",
        "random.seed(42)\n",
        "random.shuffle(words)\n",
        "n1 = int(0.8*len(words))\n",
        "n2 = int(0.9*len(words))\n",
        "\n",
        "Xtr, Ytr = build_dataset(words[:n1])\n",
        "Xdev, Ydev = build_dataset(words[n1:n2])\n",
        "Xte, Yte = build_dataset(words[n2:])"
      ],
      "metadata": {
        "id": "jzDSTUxoCdLb"
      },
      "execution_count": null,
      "outputs": []
    },
    {
      "cell_type": "code",
      "source": [
        "X.shape, X.dtype, Y.shape, Y.dtype"
      ],
      "metadata": {
        "colab": {
          "base_uri": "https://localhost:8080/"
        },
        "id": "7fK7k81a0HuG",
        "outputId": "665bdf23-c9e4-4c4f-eb27-939c14588836"
      },
      "execution_count": 36,
      "outputs": [
        {
          "output_type": "execute_result",
          "data": {
            "text/plain": [
              "(torch.Size([228146, 3]), torch.int64, torch.Size([228146]), torch.int64)"
            ]
          },
          "metadata": {},
          "execution_count": 36
        }
      ]
    },
    {
      "cell_type": "code",
      "source": [
        "# create embedding matrix to represent the 27 char to 2 dimensional only\n",
        "C = torch.randn((27, 2))\n",
        "C"
      ],
      "metadata": {
        "colab": {
          "base_uri": "https://localhost:8080/"
        },
        "id": "zLkoHw-g0J_Q",
        "outputId": "9727c3e1-c07c-4dcd-e3c5-a651cff52846"
      },
      "execution_count": 37,
      "outputs": [
        {
          "output_type": "execute_result",
          "data": {
            "text/plain": [
              "tensor([[ 1.7342,  0.5531],\n",
              "        [-0.7402,  0.3484],\n",
              "        [-0.8633, -0.3491],\n",
              "        [-0.6402,  0.3826],\n",
              "        [-0.4960, -1.3237],\n",
              "        [-0.9624, -0.4645],\n",
              "        [ 0.0452,  0.8804],\n",
              "        [-1.1044, -0.0509],\n",
              "        [ 0.9452, -0.6294],\n",
              "        [-1.0733,  2.2758],\n",
              "        [ 0.7938,  0.1050],\n",
              "        [-0.0620, -0.4036],\n",
              "        [-0.3160,  1.7467],\n",
              "        [-0.0068,  0.1589],\n",
              "        [ 1.1806,  1.1149],\n",
              "        [-1.5221, -0.1874],\n",
              "        [ 1.2294, -0.5758],\n",
              "        [-1.9578, -0.3836],\n",
              "        [-0.5618, -0.0324],\n",
              "        [-0.6801, -0.8232],\n",
              "        [-0.1072,  2.0982],\n",
              "        [-1.1211,  0.7609],\n",
              "        [ 1.3794, -0.2806],\n",
              "        [-0.1419, -2.7827],\n",
              "        [-1.2866, -1.3947],\n",
              "        [-0.2635, -0.1288],\n",
              "        [-0.0368, -0.9132]])"
            ]
          },
          "metadata": {},
          "execution_count": 37
        }
      ]
    },
    {
      "cell_type": "code",
      "source": [
        "X"
      ],
      "metadata": {
        "colab": {
          "base_uri": "https://localhost:8080/"
        },
        "id": "JitqvGkn22h_",
        "outputId": "b2f67175-081e-484b-ff7a-9cafab87bc7b"
      },
      "execution_count": 38,
      "outputs": [
        {
          "output_type": "execute_result",
          "data": {
            "text/plain": [
              "tensor([[ 0,  0,  0],\n",
              "        [ 0,  0,  5],\n",
              "        [ 0,  5, 13],\n",
              "        ...,\n",
              "        [26, 26, 25],\n",
              "        [26, 25, 26],\n",
              "        [25, 26, 24]])"
            ]
          },
          "metadata": {},
          "execution_count": 38
        }
      ]
    },
    {
      "cell_type": "code",
      "source": [
        "# mapping the X (input) to the embedding\n",
        "emb = C[X]\n",
        "emb"
      ],
      "metadata": {
        "colab": {
          "base_uri": "https://localhost:8080/"
        },
        "id": "3-ameOsE4W_g",
        "outputId": "73726d91-2135-4878-9be3-387d4e932c8b"
      },
      "execution_count": 39,
      "outputs": [
        {
          "output_type": "execute_result",
          "data": {
            "text/plain": [
              "tensor([[[ 1.7342,  0.5531],\n",
              "         [ 1.7342,  0.5531],\n",
              "         [ 1.7342,  0.5531]],\n",
              "\n",
              "        [[ 1.7342,  0.5531],\n",
              "         [ 1.7342,  0.5531],\n",
              "         [-0.9624, -0.4645]],\n",
              "\n",
              "        [[ 1.7342,  0.5531],\n",
              "         [-0.9624, -0.4645],\n",
              "         [-0.0068,  0.1589]],\n",
              "\n",
              "        ...,\n",
              "\n",
              "        [[-0.0368, -0.9132],\n",
              "         [-0.0368, -0.9132],\n",
              "         [-0.2635, -0.1288]],\n",
              "\n",
              "        [[-0.0368, -0.9132],\n",
              "         [-0.2635, -0.1288],\n",
              "         [-0.0368, -0.9132]],\n",
              "\n",
              "        [[-0.2635, -0.1288],\n",
              "         [-0.0368, -0.9132],\n",
              "         [-1.2866, -1.3947]]])"
            ]
          },
          "metadata": {},
          "execution_count": 39
        }
      ]
    },
    {
      "cell_type": "code",
      "source": [
        "emb.shape"
      ],
      "metadata": {
        "id": "-LDz3WM3_kkq",
        "outputId": "f9010819-dc56-4770-c448-82c28f5a407c",
        "colab": {
          "base_uri": "https://localhost:8080/"
        }
      },
      "execution_count": 40,
      "outputs": [
        {
          "output_type": "execute_result",
          "data": {
            "text/plain": [
              "torch.Size([228146, 3, 2])"
            ]
          },
          "metadata": {},
          "execution_count": 40
        }
      ]
    },
    {
      "cell_type": "code",
      "source": [
        "W1 = torch.randn((6, 100))\n",
        "b1 = torch.randn(100)"
      ],
      "metadata": {
        "id": "6e7Hq2Qr4a3O"
      },
      "execution_count": 41,
      "outputs": []
    },
    {
      "cell_type": "code",
      "source": [
        "len(torch.unbind(emb, 1))"
      ],
      "metadata": {
        "colab": {
          "base_uri": "https://localhost:8080/"
        },
        "id": "a8lpVtoE-T8v",
        "outputId": "7227ba61-a728-4d26-dce8-d123f68c11ee"
      },
      "execution_count": 42,
      "outputs": [
        {
          "output_type": "execute_result",
          "data": {
            "text/plain": [
              "3"
            ]
          },
          "metadata": {},
          "execution_count": 42
        }
      ]
    },
    {
      "cell_type": "code",
      "source": [
        "torch.unbind(emb, 1)[0]"
      ],
      "metadata": {
        "colab": {
          "base_uri": "https://localhost:8080/"
        },
        "id": "q6iDLpvB-eOK",
        "outputId": "eb39c338-57b7-4dfa-e72e-0f3ef6cbb468"
      },
      "execution_count": 43,
      "outputs": [
        {
          "output_type": "execute_result",
          "data": {
            "text/plain": [
              "tensor([[ 1.7342,  0.5531],\n",
              "        [ 1.7342,  0.5531],\n",
              "        [ 1.7342,  0.5531],\n",
              "        ...,\n",
              "        [-0.0368, -0.9132],\n",
              "        [-0.0368, -0.9132],\n",
              "        [-0.2635, -0.1288]])"
            ]
          },
          "metadata": {},
          "execution_count": 43
        }
      ]
    },
    {
      "cell_type": "code",
      "source": [
        "torch.unbind(emb, 1)[0].shape"
      ],
      "metadata": {
        "colab": {
          "base_uri": "https://localhost:8080/"
        },
        "id": "dNuLCVLa-uqJ",
        "outputId": "87ca7879-6edb-4a23-df9c-eb080ba8802b"
      },
      "execution_count": 44,
      "outputs": [
        {
          "output_type": "execute_result",
          "data": {
            "text/plain": [
              "torch.Size([228146, 2])"
            ]
          },
          "metadata": {},
          "execution_count": 44
        }
      ]
    },
    {
      "cell_type": "code",
      "source": [
        "# so I have 3 of the (228146, 2), and I want to make it (228146, 6)\n",
        "torch.cat(torch.unbind(emb, 1),1)"
      ],
      "metadata": {
        "colab": {
          "base_uri": "https://localhost:8080/"
        },
        "id": "HUCk8Rij-v2N",
        "outputId": "c7058138-95c5-49cf-ab90-30ac02a4d4a8"
      },
      "execution_count": 45,
      "outputs": [
        {
          "output_type": "execute_result",
          "data": {
            "text/plain": [
              "tensor([[ 1.7342,  0.5531,  1.7342,  0.5531,  1.7342,  0.5531],\n",
              "        [ 1.7342,  0.5531,  1.7342,  0.5531, -0.9624, -0.4645],\n",
              "        [ 1.7342,  0.5531, -0.9624, -0.4645, -0.0068,  0.1589],\n",
              "        ...,\n",
              "        [-0.0368, -0.9132, -0.0368, -0.9132, -0.2635, -0.1288],\n",
              "        [-0.0368, -0.9132, -0.2635, -0.1288, -0.0368, -0.9132],\n",
              "        [-0.2635, -0.1288, -0.0368, -0.9132, -1.2866, -1.3947]])"
            ]
          },
          "metadata": {},
          "execution_count": 45
        }
      ]
    },
    {
      "cell_type": "code",
      "source": [
        "torch.cat(torch.unbind(emb, 1),1).shape"
      ],
      "metadata": {
        "colab": {
          "base_uri": "https://localhost:8080/"
        },
        "id": "CUTESzPU_APq",
        "outputId": "625fc388-781d-4266-c21f-25b078d589e8"
      },
      "execution_count": 46,
      "outputs": [
        {
          "output_type": "execute_result",
          "data": {
            "text/plain": [
              "torch.Size([228146, 6])"
            ]
          },
          "metadata": {},
          "execution_count": 46
        }
      ]
    },
    {
      "cell_type": "code",
      "source": [
        "# we can do it with view, which gives the exact same result, but more efficient under the hood\n",
        "emb.view(228146, 6)"
      ],
      "metadata": {
        "id": "-tXgojuj_Vh5",
        "colab": {
          "base_uri": "https://localhost:8080/"
        },
        "outputId": "ce56d3db-b8cd-4c0a-cfc0-812d85d18fb1"
      },
      "execution_count": 47,
      "outputs": [
        {
          "output_type": "execute_result",
          "data": {
            "text/plain": [
              "tensor([[ 1.7342,  0.5531,  1.7342,  0.5531,  1.7342,  0.5531],\n",
              "        [ 1.7342,  0.5531,  1.7342,  0.5531, -0.9624, -0.4645],\n",
              "        [ 1.7342,  0.5531, -0.9624, -0.4645, -0.0068,  0.1589],\n",
              "        ...,\n",
              "        [-0.0368, -0.9132, -0.0368, -0.9132, -0.2635, -0.1288],\n",
              "        [-0.0368, -0.9132, -0.2635, -0.1288, -0.0368, -0.9132],\n",
              "        [-0.2635, -0.1288, -0.0368, -0.9132, -1.2866, -1.3947]])"
            ]
          },
          "metadata": {},
          "execution_count": 47
        }
      ]
    },
    {
      "cell_type": "code",
      "source": [
        "# so finally we can do dot product of the weight and inputs:\n",
        "# note: -1 will automatically do emb.shape[0]\n",
        "emb.view(-1, 6) @ W1 + b1"
      ],
      "metadata": {
        "colab": {
          "base_uri": "https://localhost:8080/"
        },
        "id": "YW_gdjegmoMS",
        "outputId": "8a866f5a-3503-4d2e-dd86-47b6967463b5"
      },
      "execution_count": 48,
      "outputs": [
        {
          "output_type": "execute_result",
          "data": {
            "text/plain": [
              "tensor([[-1.3452,  0.1835, -0.3047,  ..., -2.1126, -0.4407,  0.8031],\n",
              "        [ 4.1061,  0.4740,  0.3838,  ..., -1.9395, -0.6541,  2.8079],\n",
              "        [-1.3587,  2.3916,  0.6522,  ...,  1.0800, -3.6780, -2.9505],\n",
              "        ...,\n",
              "        [ 0.7872,  0.7203, -0.3487,  ...,  2.2531,  1.1472,  0.1096],\n",
              "        [ 1.8845,  3.6258, -0.1633,  ..., -0.2796, -0.5992, -0.4307],\n",
              "        [ 3.0079,  3.7131,  1.3282,  ...,  3.3386,  0.4986,  0.7114]])"
            ]
          },
          "metadata": {},
          "execution_count": 48
        }
      ]
    },
    {
      "cell_type": "code",
      "source": [
        "# do tanh for non linearity\n",
        "h = torch.tanh(emb.view(-1, 6) @ W1 + b1)\n",
        "# note: this W1 + b1 will do broadcasting as follows:\n",
        "# W1 (228146, 100)\n",
        "# b1 (100)\n",
        "# =>\n",
        "# W1 (228146, 100)\n",
        "# b1 (     1, 100) => so this is correct, because we wanna do row wise sum!\n",
        "h"
      ],
      "metadata": {
        "colab": {
          "base_uri": "https://localhost:8080/"
        },
        "id": "ksgbAoaSoA0a",
        "outputId": "feb226a5-943e-44db-c0af-d43982aed6c7"
      },
      "execution_count": 49,
      "outputs": [
        {
          "output_type": "execute_result",
          "data": {
            "text/plain": [
              "tensor([[-0.8729,  0.1814, -0.2956,  ..., -0.9712, -0.4142,  0.6657],\n",
              "        [ 0.9995,  0.4414,  0.3660,  ..., -0.9595, -0.5744,  0.9927],\n",
              "        [-0.8761,  0.9834,  0.5731,  ...,  0.7932, -0.9987, -0.9945],\n",
              "        ...,\n",
              "        [ 0.6568,  0.6171, -0.3352,  ...,  0.9782,  0.8168,  0.1091],\n",
              "        [ 0.9549,  0.9986, -0.1619,  ..., -0.2726, -0.5365, -0.4059],\n",
              "        [ 0.9951,  0.9988,  0.8688,  ...,  0.9975,  0.4610,  0.6115]])"
            ]
          },
          "metadata": {},
          "execution_count": 49
        }
      ]
    },
    {
      "cell_type": "code",
      "source": [
        "h.shape"
      ],
      "metadata": {
        "colab": {
          "base_uri": "https://localhost:8080/"
        },
        "id": "wJBPz2EpryFJ",
        "outputId": "d8160c84-0202-4b62-d249-652527d99677"
      },
      "execution_count": 50,
      "outputs": [
        {
          "output_type": "execute_result",
          "data": {
            "text/plain": [
              "torch.Size([228146, 100])"
            ]
          },
          "metadata": {},
          "execution_count": 50
        }
      ]
    },
    {
      "cell_type": "code",
      "source": [
        "W2 = torch.randn((100, 27))\n",
        "b2 = torch.randn(27)"
      ],
      "metadata": {
        "id": "N2bhPlZsqM15"
      },
      "execution_count": 51,
      "outputs": []
    },
    {
      "cell_type": "code",
      "source": [
        "logits = h @ W2 + b2"
      ],
      "metadata": {
        "id": "YEMxYofZrugV"
      },
      "execution_count": 52,
      "outputs": []
    },
    {
      "cell_type": "code",
      "source": [
        "logits.shape"
      ],
      "metadata": {
        "colab": {
          "base_uri": "https://localhost:8080/"
        },
        "id": "pqnaP6zCr1z1",
        "outputId": "162f45d1-1504-45d8-9ba1-4cac049040e7"
      },
      "execution_count": 53,
      "outputs": [
        {
          "output_type": "execute_result",
          "data": {
            "text/plain": [
              "torch.Size([228146, 27])"
            ]
          },
          "metadata": {},
          "execution_count": 53
        }
      ]
    },
    {
      "cell_type": "code",
      "source": [
        "counts = logits.exp()"
      ],
      "metadata": {
        "id": "JpxnGqujr3Tf"
      },
      "execution_count": 54,
      "outputs": []
    },
    {
      "cell_type": "code",
      "source": [
        "# so softmax activation function\n",
        "prob = counts / counts.sum(1, keepdims=True)"
      ],
      "metadata": {
        "id": "ty0y4jFXsFGA"
      },
      "execution_count": 55,
      "outputs": []
    },
    {
      "cell_type": "code",
      "source": [
        "prob.shape"
      ],
      "metadata": {
        "colab": {
          "base_uri": "https://localhost:8080/"
        },
        "id": "hdZE8d2msG6y",
        "outputId": "b7fede63-3444-4842-eaed-a74ffe70762d"
      },
      "execution_count": 56,
      "outputs": [
        {
          "output_type": "execute_result",
          "data": {
            "text/plain": [
              "torch.Size([228146, 27])"
            ]
          },
          "metadata": {},
          "execution_count": 56
        }
      ]
    },
    {
      "cell_type": "code",
      "source": [
        "g = torch.Generator().manual_seed(2147483647) # for reproducibility\n",
        "C = torch.randn((27, 10), generator=g)\n",
        "W1 = torch.randn((30, 200), generator=g)\n",
        "b1 = torch.randn(200, generator=g)\n",
        "W2 = torch.randn((200, 27), generator=g)\n",
        "b2 = torch.randn(27, generator=g)\n",
        "parameters = [C, W1, b1, W2, b2]"
      ],
      "metadata": {
        "id": "3aCriQ3fugwQ"
      },
      "execution_count": 57,
      "outputs": []
    },
    {
      "cell_type": "code",
      "source": [
        "sum(p.nelement() for p in parameters) # number of parameters in total"
      ],
      "metadata": {
        "id": "S6XNUy_fuie1",
        "outputId": "f52f328b-a919-4e53-bc3b-95b80e127161",
        "colab": {
          "base_uri": "https://localhost:8080/"
        }
      },
      "execution_count": 58,
      "outputs": [
        {
          "output_type": "execute_result",
          "data": {
            "text/plain": [
              "11897"
            ]
          },
          "metadata": {},
          "execution_count": 58
        }
      ]
    },
    {
      "cell_type": "code",
      "source": [
        "for p in parameters:\n",
        "  p.requires_grad = True"
      ],
      "metadata": {
        "id": "Q3fVM04XukJL"
      },
      "execution_count": 59,
      "outputs": []
    },
    {
      "cell_type": "code",
      "source": [
        "lre = torch.linspace(-3, 0, 1000)\n",
        "lrs = 10**lre"
      ],
      "metadata": {
        "id": "8ekeq0yrumJX"
      },
      "execution_count": 60,
      "outputs": []
    },
    {
      "cell_type": "code",
      "source": [
        "lri = []\n",
        "lossi = []\n",
        "stepi = []"
      ],
      "metadata": {
        "id": "i-UgRcfGuiFv"
      },
      "execution_count": 62,
      "outputs": []
    },
    {
      "cell_type": "code",
      "source": [
        "for i in range(200000):\n",
        "\n",
        "  # minibatch construct\n",
        "  ix = torch.randint(0, Xtr.shape[0], (32,))\n",
        "\n",
        "  # forward pass\n",
        "  emb = C[Xtr[ix]] # (32, 3, 10)\n",
        "  h = torch.tanh(emb.view(-1, 30) @ W1 + b1) # (32, 200)\n",
        "  logits = h @ W2 + b2 # (32, 27)\n",
        "  loss = F.cross_entropy(logits, Ytr[ix])\n",
        "  #print(loss.item())\n",
        "\n",
        "  # backward pass\n",
        "  for p in parameters:\n",
        "    p.grad = None\n",
        "  loss.backward()\n",
        "\n",
        "  # update\n",
        "  #lr = lrs[i]\n",
        "  lr = 0.1 if i < 100000 else 0.01\n",
        "  for p in parameters:\n",
        "    p.data += -lr * p.grad\n",
        "\n",
        "  # track stats\n",
        "  #lri.append(lre[i])\n",
        "  stepi.append(i)\n",
        "  lossi.append(loss.log10().item())\n",
        "\n",
        "#print(loss.item())"
      ],
      "metadata": {
        "id": "lCIPoSrkuDLT"
      },
      "execution_count": 63,
      "outputs": []
    },
    {
      "cell_type": "code",
      "source": [
        "plt.plot(stepi, lossi)"
      ],
      "metadata": {
        "colab": {
          "base_uri": "https://localhost:8080/",
          "height": 447
        },
        "id": "3IBvrqskuFaK",
        "outputId": "cb07f03b-b8f7-4bd9-ea8c-ba87eb50b150"
      },
      "execution_count": 64,
      "outputs": [
        {
          "output_type": "execute_result",
          "data": {
            "text/plain": [
              "[<matplotlib.lines.Line2D at 0x7f9cf9eead40>]"
            ]
          },
          "metadata": {},
          "execution_count": 64
        },
        {
          "output_type": "display_data",
          "data": {
            "text/plain": [
              "<Figure size 640x480 with 1 Axes>"
            ],
            "image/png": "[encoded data removed]"
          },
          "metadata": {}
        }
      ]
    },
    {
      "cell_type": "code",
      "source": [
        "emb = C[Xtr] # (32, 3, 2)\n",
        "h = torch.tanh(emb.view(-1, 30) @ W1 + b1) # (32, 100)\n",
        "logits = h @ W2 + b2 # (32, 27)\n",
        "loss = F.cross_entropy(logits, Ytr)\n",
        "loss"
      ],
      "metadata": {
        "colab": {
          "base_uri": "https://localhost:8080/"
        },
        "id": "pllej5KZul2i",
        "outputId": "6519a2b0-7423-4fa7-e23b-25de64018347"
      },
      "execution_count": 65,
      "outputs": [
        {
          "output_type": "execute_result",
          "data": {
            "text/plain": [
              "tensor(2.1306, grad_fn=<NllLossBackward0>)"
            ]
          },
          "metadata": {},
          "execution_count": 65
        }
      ]
    },
    {
      "cell_type": "code",
      "source": [
        "emb = C[Xdev] # (32, 3, 2)\n",
        "h = torch.tanh(emb.view(-1, 30) @ W1 + b1) # (32, 100)\n",
        "logits = h @ W2 + b2 # (32, 27)\n",
        "loss = F.cross_entropy(logits, Ydev)\n",
        "loss"
      ],
      "metadata": {
        "colab": {
          "base_uri": "https://localhost:8080/"
        },
        "id": "xZGoK-pEvT6E",
        "outputId": "e7843575-1871-4763-b2e6-daf975725b4a"
      },
      "execution_count": 66,
      "outputs": [
        {
          "output_type": "execute_result",
          "data": {
            "text/plain": [
              "tensor(2.1614, grad_fn=<NllLossBackward0>)"
            ]
          },
          "metadata": {},
          "execution_count": 66
        }
      ]
    },
    {
      "cell_type": "code",
      "source": [
        "# visualize dimensions 0 and 1 of the embedding matrix C for all characters\n",
        "plt.figure(figsize=(8,8))\n",
        "plt.scatter(C[:,0].data, C[:,1].data, s=200)\n",
        "for i in range(C.shape[0]):\n",
        "    plt.text(C[i,0].item(), C[i,1].item(), itos[i], ha=\"center\", va=\"center\", color='white')\n",
        "plt.grid('minor')"
      ],
      "metadata": {
        "colab": {
          "base_uri": "https://localhost:8080/",
          "height": 676
        },
        "id": "lK0AvlhAvU-0",
        "outputId": "d9b8ac7f-dcf2-4e63-d240-8e6e1318e54a"
      },
      "execution_count": 67,
      "outputs": [
        {
          "output_type": "display_data",
          "data": {
            "text/plain": [
              "<Figure size 800x800 with 1 Axes>"
            ],
            "image/png": "[encoded data removed]"
          },
          "metadata": {}
        }
      ]
    },
    {
      "cell_type": "code",
      "source": [
        "# training split, dev/validation split, test split\n",
        "# 80%, 10%, 10%"
      ],
      "metadata": {
        "id": "87sVbEY8vXhH"
      },
      "execution_count": 68,
      "outputs": []
    },
    {
      "cell_type": "code",
      "source": [
        "context = [0] * block_size\n",
        "C[torch.tensor([context])].shape"
      ],
      "metadata": {
        "colab": {
          "base_uri": "https://localhost:8080/"
        },
        "id": "Aqa3q1Fwvc2K",
        "outputId": "e3e01cbd-3787-492f-cf25-1aa082622818"
      },
      "execution_count": 69,
      "outputs": [
        {
          "output_type": "execute_result",
          "data": {
            "text/plain": [
              "torch.Size([1, 3, 10])"
            ]
          },
          "metadata": {},
          "execution_count": 69
        }
      ]
    },
    {
      "cell_type": "code",
      "source": [
        "# sample from the model\n",
        "g = torch.Generator().manual_seed(2147483647 + 10)\n",
        "\n",
        "for _ in range(20):\n",
        "\n",
        "    out = []\n",
        "    context = [0] * block_size # initialize with all ...\n",
        "    while True:\n",
        "      emb = C[torch.tensor([context])] # (1,block_size,d)\n",
        "      h = torch.tanh(emb.view(1, -1) @ W1 + b1)\n",
        "      logits = h @ W2 + b2\n",
        "      probs = F.softmax(logits, dim=1)\n",
        "      ix = torch.multinomial(probs, num_samples=1, generator=g).item()\n",
        "      context = context[1:] + [ix]\n",
        "      out.append(ix)\n",
        "      if ix == 0:\n",
        "        break\n",
        "\n",
        "    print(''.join(itos[i] for i in out))"
      ],
      "metadata": {
        "colab": {
          "base_uri": "https://localhost:8080/"
        },
        "id": "EaSxMfgpvdwi",
        "outputId": "d15296bf-dea7-40b7-9e51-5c8218e6baec"
      },
      "execution_count": 70,
      "outputs": [
        {
          "output_type": "stream",
          "name": "stdout",
          "text": [
            "mora.\n",
            "kayah.\n",
            "see.\n",
            "med.\n",
            "ryla.\n",
            "rethruthad.\n",
            "leg.\n",
            "aderedielin.\n",
            "shi.\n",
            "jenleigh.\n",
            "estanartelle.\n",
            "malaia.\n",
            "noselbergshimier.\n",
            "kin.\n",
            "renelipanthusti.\n",
            "brence.\n",
            "ryyah.\n",
            "fiel.\n",
            "yuma.\n",
            "miston.\n"
          ]
        }
      ]
    },
    {
      "cell_type": "code",
      "source": [],
      "metadata": {
        "id": "qmiixCX2ve_c"
      },
      "execution_count": null,
      "outputs": []
    }
  ]
}